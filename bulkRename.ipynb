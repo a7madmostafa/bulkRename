{
 "cells": [
  {
   "cell_type": "markdown",
   "metadata": {},
   "source": [
    "## bulkRename\n",
    "\n",
    " A general function to rename all files in some path\n"
   ]
  },
  {
   "cell_type": "code",
   "execution_count": null,
   "metadata": {},
   "outputs": [],
   "source": [
    "# A general function to rename all files in some path\n",
    "\n",
    "def bulkRename(path, newName, extension, startNum=1):\n",
    "    '''\n",
    "    Input: *path: the directory of files to be renamed \n",
    "           *newName: the new Name for all the files, default start at 1\n",
    "           *startNum: the starting number for first file to be add to the newName\n",
    "           *extension: the extension of the files to be renamed\n",
    "           \n",
    "    This function rename all the files in the passed path to be newName1, newName2,....\n",
    "    '''\n",
    "    files= os.listdir(path)\n",
    "    if len(files) > 0 :\n",
    "        i=startNum\n",
    "        for file in files:\n",
    "            os.rename(file, newName + str(i) + '.' + extension)\n",
    "            i +=1\n",
    "    else:\n",
    "        print('Empty Folder')"
   ]
  }
 ],
 "metadata": {
  "kernelspec": {
   "display_name": "Python 3",
   "language": "python",
   "name": "python3"
  },
  "language_info": {
   "codemirror_mode": {
    "name": "ipython",
    "version": 3
   },
   "file_extension": ".py",
   "mimetype": "text/x-python",
   "name": "python",
   "nbconvert_exporter": "python",
   "pygments_lexer": "ipython3",
   "version": "3.7.4"
  }
 },
 "nbformat": 4,
 "nbformat_minor": 2
}
